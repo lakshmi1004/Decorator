{
 "cells": [
  {
   "cell_type": "code",
   "execution_count": 4,
   "metadata": {},
   "outputs": [
    {
     "name": "stdout",
     "output_type": "stream",
     "text": [
      "[0, 3, 6, 9, 12, 15, 18, 21, 24, 27, 30, 33, 36, 39, 42, 45, 48, 51, 54, 57, 60, 63, 66, 69, 72, 75, 78, 81, 84, 87, 90, 93, 96, 99]\n"
     ]
    }
   ],
   "source": [
    "def three(n):\n",
    "    for i in range(0,100,3):\n",
    "        if(i%3 == 0):\n",
    "            yield i\n",
    "num = three(100)\n",
    "print(list(num))"
   ]
  },
  {
   "cell_type": "code",
   "execution_count": 25,
   "metadata": {},
   "outputs": [
    {
     "name": "stdout",
     "output_type": "stream",
     "text": [
      "[6, 9, 12, 15, 18, 21, 24, 27, 30, 33, 36, 39, 42, 45, 48, 51, 54]\n"
     ]
    }
   ],
   "source": [
    "#Create a generator that takes in two numbers and generates all multiples of 3 between the two of them\n",
    "x = int(input('Enter the number:'))\n",
    "y = int(input('Enter the number:'))\n",
    "def multiply():\n",
    "    for i in range(x,y+1):\n",
    "        if (i%3 == 0):\n",
    "            yield i\n",
    "        \n",
    "three = multiply()  \n",
    "print(list(three))"
   ]
  },
  {
   "cell_type": "code",
   "execution_count": 21,
   "metadata": {},
   "outputs": [
    {
     "name": "stdout",
     "output_type": "stream",
     "text": [
      "[0, 3, 6, 9]\n"
     ]
    }
   ],
   "source": [
    "def multiply(n):\n",
    "    j = 1\n",
    "    for i in range(0,n,3):\n",
    "        three = i*j\n",
    "        if (three%3 == 0):\n",
    "            yield three\n",
    "threes = multiply(10)\n",
    "print(list(threes))"
   ]
  }
 ],
 "metadata": {
  "interpreter": {
   "hash": "39d388ca1b04e1a174574da37708eb359a2bcdc8ec40a682dcfb85d2b414fb91"
  },
  "kernelspec": {
   "display_name": "Python 3.9.7 ('p1')",
   "language": "python",
   "name": "python3"
  },
  "language_info": {
   "codemirror_mode": {
    "name": "ipython",
    "version": 3
   },
   "file_extension": ".py",
   "mimetype": "text/x-python",
   "name": "python",
   "nbconvert_exporter": "python",
   "pygments_lexer": "ipython3",
   "version": "3.9.7"
  },
  "orig_nbformat": 4
 },
 "nbformat": 4,
 "nbformat_minor": 2
}
