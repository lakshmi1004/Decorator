{
 "cells": [
  {
   "cell_type": "code",
   "execution_count": 45,
   "metadata": {},
   "outputs": [
    {
     "name": "stdout",
     "output_type": "stream",
     "text": [
      "4\n",
      "9\n",
      "16\n",
      "36\n",
      "64\n",
      "81\n",
      "100\n",
      "144\n",
      "196\n",
      "225\n",
      "256\n",
      "324\n",
      "400\n",
      "441\n",
      "484\n",
      "576\n",
      "676\n",
      "729\n",
      "784\n",
      "900\n",
      "1024\n",
      "1089\n",
      "1156\n",
      "1296\n",
      "1444\n",
      "1521\n",
      "1600\n",
      "1764\n",
      "1936\n",
      "2025\n",
      "2116\n",
      "2304\n",
      "2500\n",
      "2601\n",
      "2704\n",
      "2916\n",
      "3136\n",
      "3249\n",
      "3364\n",
      "3600\n",
      "3844\n",
      "3969\n",
      "4096\n",
      "4356\n",
      "4624\n",
      "4761\n",
      "4900\n",
      "5184\n",
      "5476\n",
      "5625\n",
      "5776\n",
      "6084\n",
      "6400\n",
      "6561\n",
      "6724\n",
      "7056\n",
      "7396\n",
      "7569\n",
      "7744\n",
      "8100\n",
      "8464\n",
      "8649\n",
      "8836\n",
      "9216\n",
      "9604\n",
      "9801\n",
      "10000\n"
     ]
    }
   ],
   "source": [
    "s = (d*d for d in range (1,101))\n",
    "#y = list(s)\n",
    "#print(list(s))\n",
    "for i in s:\n",
    "    if (i % 3 == 0) or (i % 2 == 0):\n",
    "        print(i)\n"
   ]
  }
 ],
 "metadata": {
  "interpreter": {
   "hash": "39d388ca1b04e1a174574da37708eb359a2bcdc8ec40a682dcfb85d2b414fb91"
  },
  "kernelspec": {
   "display_name": "Python 3.9.7 ('p1')",
   "language": "python",
   "name": "python3"
  },
  "language_info": {
   "codemirror_mode": {
    "name": "ipython",
    "version": 3
   },
   "file_extension": ".py",
   "mimetype": "text/x-python",
   "name": "python",
   "nbconvert_exporter": "python",
   "pygments_lexer": "ipython3",
   "version": "3.9.7"
  },
  "orig_nbformat": 4
 },
 "nbformat": 4,
 "nbformat_minor": 2
}
