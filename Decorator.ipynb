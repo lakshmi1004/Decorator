{
 "cells": [
  {
   "cell_type": "code",
   "execution_count": null,
   "metadata": {},
   "outputs": [],
   "source": [
    "#Properties of first class functions:\n",
    "\n",
    "    #A function is an instance of the Object type.\n",
    "    #You can store the function in a variable.\n",
    "    #You can pass the function as a parameter to another function.\n",
    "    #You can return the function from a function.\n",
    "    #You can store them in data structures such as hash tables, lists, …"
   ]
  },
  {
   "cell_type": "code",
   "execution_count": 3,
   "metadata": {},
   "outputs": [
    {
     "name": "stdout",
     "output_type": "stream",
     "text": [
      "HELLO\n",
      "HELLO\n"
     ]
    }
   ],
   "source": [
    "#Example 1: Treating the functions as objects. \n",
    "def shout(text):\n",
    "    return text.upper()\n",
    "print(shout('Hello'))\n",
    "\n",
    "yell = shout #we assigned the functions 'shout' to a variable. this will not call function,\n",
    "# instead function object referenced by a shout and creates a second name pointing to it, yell\n",
    "print(yell('Hello')) "
   ]
  },
  {
   "cell_type": "code",
   "execution_count": 10,
   "metadata": {},
   "outputs": [
    {
     "name": "stdout",
     "output_type": "stream",
     "text": [
      "WELCOME RAMYA'\n",
      "welcome ramya'\n"
     ]
    }
   ],
   "source": [
    "#Example 2: Passing the function as an argument \n",
    "\n",
    "\n",
    "def shout(text):\n",
    "    return text.upper()\n",
    "def whisper(text):\n",
    "    return text.lower()\n",
    "def greet(welcome):\n",
    "    greeting = welcome(\"\"\"Welcome Ramya'\"\"\")\n",
    "    print(greeting)\n",
    "greet(shout)   #the greet function takes another function as a parameter (shout and whisper in this case)\n",
    "greet(whisper)"
   ]
  },
  {
   "cell_type": "code",
   "execution_count": 11,
   "metadata": {},
   "outputs": [
    {
     "name": "stdout",
     "output_type": "stream",
     "text": [
      "25\n"
     ]
    }
   ],
   "source": [
    "#Example 3: Returning functions from another function.\n",
    "def add(x):\n",
    "    def adder(y):\n",
    "        return x+y\n",
    "    return adder\n",
    "\n",
    "add_15 = add(15)\n",
    "print(add_15(10))"
   ]
  },
  {
   "cell_type": "code",
   "execution_count": 18,
   "metadata": {},
   "outputs": [
    {
     "name": "stdout",
     "output_type": "stream",
     "text": [
      "3628800\n",
      "Total time take  factorial 2.002324342727661\n"
     ]
    }
   ],
   "source": [
    "#Decorators\n",
    "import time\n",
    "import math\n",
    "\n",
    "def calculate_time(function):\n",
    "    def wrapper(*args,**kwargs):\n",
    "        begin = time.time()\n",
    "        function (*args,**kwargs)\n",
    "        end = time.time()\n",
    "        print('Total time take ',function.__name__,end - begin)\n",
    "    return wrapper\n",
    "\n",
    "@calculate_time\n",
    "def factorial(num):\n",
    "    time.sleep(2)\n",
    "    print(math.factorial(num))\n",
    "\n",
    "factorial(10)\n"
   ]
  },
  {
   "cell_type": "code",
   "execution_count": 19,
   "metadata": {},
   "outputs": [
    {
     "name": "stdout",
     "output_type": "stream",
     "text": [
      "400\n"
     ]
    }
   ],
   "source": [
    "def decor1(func):\n",
    "    def inner():\n",
    "        x = func()\n",
    "        return x * x\n",
    "    return inner\n",
    " \n",
    "def decor(func):\n",
    "    def inner():\n",
    "        x = func()\n",
    "        return 2 * x\n",
    "    return inner\n",
    " \n",
    "@decor1\n",
    "@decor\n",
    "#decor1(decor(num))\n",
    "def num():\n",
    "    return 10\n",
    " \n",
    "print(num())"
   ]
  },
  {
   "cell_type": "code",
   "execution_count": null,
   "metadata": {},
   "outputs": [],
   "source": []
  }
 ],
 "metadata": {
  "interpreter": {
   "hash": "39d388ca1b04e1a174574da37708eb359a2bcdc8ec40a682dcfb85d2b414fb91"
  },
  "kernelspec": {
   "display_name": "Python 3.9.7 ('p1')",
   "language": "python",
   "name": "python3"
  },
  "language_info": {
   "codemirror_mode": {
    "name": "ipython",
    "version": 3
   },
   "file_extension": ".py",
   "mimetype": "text/x-python",
   "name": "python",
   "nbconvert_exporter": "python",
   "pygments_lexer": "ipython3",
   "version": "3.9.7"
  },
  "orig_nbformat": 4
 },
 "nbformat": 4,
 "nbformat_minor": 2
}
