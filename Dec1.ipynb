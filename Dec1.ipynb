{
 "cells": [
  {
   "cell_type": "code",
   "execution_count": 52,
   "metadata": {},
   "outputs": [],
   "source": [
    "def start_end(my_function):\n",
    "    def wrappers():\n",
    "        print('start')\n",
    "        my_function()\n",
    "        print('end')\n",
    "    return wrappers\n"
   ]
  },
  {
   "cell_type": "code",
   "execution_count": 79,
   "metadata": {},
   "outputs": [],
   "source": [
    "import time\n",
    "def calculate_time(func):\n",
    "    def wrapper1(*args,**kwargs):\n",
    "        begin = time.time()\n",
    "        func(*args,**kwargs)\n",
    "        end = time.time()\n",
    "        print(f'Total time taken ',func.__name__, end - begin)\n",
    "    return wrapper1"
   ]
  },
  {
   "cell_type": "code",
   "execution_count": 91,
   "metadata": {},
   "outputs": [],
   "source": [
    "def welcome(function1):\n",
    "    def wrapper2(g='welcome', f = 'It is over'):\n",
    "        print(g)\n",
    "        function1()\n",
    "        print(f)\n",
    "    return wrapper2\n",
    "    \n"
   ]
  },
  {
   "cell_type": "code",
   "execution_count": 92,
   "metadata": {},
   "outputs": [
    {
     "name": "stdout",
     "output_type": "stream",
     "text": [
      "welcome\n",
      "start\n",
      "1\n",
      "2\n",
      "3\n",
      "4\n",
      "5\n",
      "end\n",
      "Total time taken  wrappers 0.001070261001586914\n",
      "It is over\n"
     ]
    }
   ],
   "source": [
    "#my_func = start_end(numbers)\n",
    "#my_func()\n",
    "@welcome\n",
    "@calculate_time\n",
    "@start_end\n",
    "def numbers():\n",
    "    for i in range(1,6):\n",
    "        print(i)\n",
    "\n",
    "numbers()"
   ]
  },
  {
   "cell_type": "code",
   "execution_count": null,
   "metadata": {},
   "outputs": [],
   "source": []
  }
 ],
 "metadata": {
  "interpreter": {
   "hash": "39d388ca1b04e1a174574da37708eb359a2bcdc8ec40a682dcfb85d2b414fb91"
  },
  "kernelspec": {
   "display_name": "Python 3.9.7 ('p1')",
   "language": "python",
   "name": "python3"
  },
  "language_info": {
   "codemirror_mode": {
    "name": "ipython",
    "version": 3
   },
   "file_extension": ".py",
   "mimetype": "text/x-python",
   "name": "python",
   "nbconvert_exporter": "python",
   "pygments_lexer": "ipython3",
   "version": "3.9.7"
  },
  "orig_nbformat": 4
 },
 "nbformat": 4,
 "nbformat_minor": 2
}
